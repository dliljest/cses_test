{
 "cells": [
  {
   "cell_type": "markdown",
   "metadata": {},
   "source": [
    "# Streamflow Evaluation: Reach Class\n",
    "\n",
    "This section of code allows the user to evaluate modeled streamflow with selected NWIS monitoring sites of interest. \n",
    "The user can input multiple USGS sites (e.g., ['02378780', '02339495', '02342500'])\n",
    "Again, we will follow a similar workflow as with the two previous examples. We will enter a list of 9 USGS sites in Utah, and examine a time period from Jauary to September, 2020.\n",
    "\n",
    "![REach_Eval_top](https://user-images.githubusercontent.com/33735397/206324095-dcc59508-bf4c-43a8-9a19-4fc5c573e205.PNG)"
   ]
  },
  {
   "cell_type": "code",
   "execution_count": null,
   "metadata": {},
   "outputs": [],
   "source": [
    "#Put in model of interest for evaluation, NWIS/USGS site id(s), and the start/end date\n",
    "\n",
    "model = 'NWM_v2.1'\n",
    "NWIS_list = ['10126000', '10130500', '10134500', '10136500', '10137500', '10141000', '10155000', '10164500', '10171000' ]\n",
    "#plot list of top performing sites\n",
    "Eval_Metric = 'KGE'\n",
    "\n",
    "startDT ='2020-1-01'\n",
    "endDT ='2020-9-30'\n",
    "\n",
    "Reach_Eval = ROSET_AWS.Reach_Eval(model , NWIS_list, startDT, endDT, cwd)\n",
    "\n",
    "#Get Streamstats and colocated NHD reaches\n",
    "Reach_Eval.get_NHD_Model_info()\n",
    "\n",
    "#Get USGS and NWM data\n",
    "Reach_Eval.prepare_comparison()"
   ]
  },
  {
   "cell_type": "markdown",
   "metadata": {},
   "source": [
    "## Interactive plotting\n",
    "As before, we can plot the results of the evaluation on an interactive map. This time we will input 'D' for a daily temporal resolution."
   ]
  },
  {
   "cell_type": "code",
   "execution_count": null,
   "metadata": {},
   "outputs": [],
   "source": [
    "#Plot the locations\n",
    "Reach_Eval.Map_Plot_Eval('D', supply = True)"
   ]
  },
  {
   "cell_type": "markdown",
   "metadata": {},
   "source": [
    "Again, we see the resulting locations denoted by color indicating performance and may select a marker for more detail.  \n",
    "\n",
    "By running the code below, we may produce the tabular and time-series results for all reaches."
   ]
  },
  {
   "cell_type": "code",
   "execution_count": null,
   "metadata": {},
   "outputs": [],
   "source": [
    "#Holoviews plots.\n",
    "freq = 'M'\n",
    "\n",
    "Reach_Eval.Interactive_Model_Eval(freq, supply =True)"
   ]
  },
  {
   "cell_type": "markdown",
   "metadata": {},
   "source": [
    "Final [Chapter](./Six.ipynb)..  \n"
   ]
  },
  {
   "cell_type": "markdown",
   "metadata": {},
   "source": []
  }
 ],
 "metadata": {
  "kernelspec": {
   "display_name": "ROSET-AWS",
   "language": "python",
   "name": "roset-aws"
  },
  "language_info": {
   "codemirror_mode": {
    "name": "ipython",
    "version": 3
   },
   "file_extension": ".py",
   "mimetype": "text/x-python",
   "name": "python",
   "nbconvert_exporter": "python",
   "pygments_lexer": "ipython3",
   "version": "3.9.12"
  },
  "vscode": {
   "interpreter": {
    "hash": "af2b86a0d97d2bdb49befe19981ba48b79a904c391b62d75845b127da778abba"
   }
  }
 },
 "nbformat": 4,
 "nbformat_minor": 4
}
