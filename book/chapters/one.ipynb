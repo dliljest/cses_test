{
 "cells": [
  {
   "cell_type": "markdown",
   "metadata": {
    "tags": []
   },
   "source": [
    "![LULC_Eval_top_image](https://user-images.githubusercontent.com/33735397/206321617-354fbbe1-3a61-4be2-8234-daf95fd4d926.PNG)\n",
    "\n",
    "\n",
    "# Overview\n",
    "By *Ryan Johnson, PhD*, *Shahab Alam, PhD*, *Dane Liljestrand*\n",
    "\n",
    "In this book, you'll be guided through three examples that highlight the strengths and limitaions of hydrological modeling by using the Community-Streamflow-Evaluation-System package. As we navigate changes in hydrologic conditions, monitoring of model performance is a crucial task to allow for adapatabliy and informed improvement. \n",
    "\n",
    "The tutorial focuses on leveraging the National Water Model (NWM) to enhance spatially coarse USGS streamflow observations. With near-continuous predictions covering 2.7 million reaches using the standardized NHDPlus framework, the NWM offers an opportunity to refine its capabilities by assessing predictive performance across national-scale heterogeneity. The Community-Streamflow-Evaluation-System, built on Python, forms the foundation for evaluating the national hydrography dataset (nhd) based model outputs, utilizing colocated USGS/NWIS streamflow monitoring stations without requiring in-situ or NWM data downloads.\n",
    "\n",
    "This package introduces three key evaluation methods: state-based LULC, HUC level analysis, and USGS station-based analysis. In the upcoming chapters, we will delve into each method's description and application. Specifically designed to assess NWM version 2.1 retrospective performance, our tool enables the evaluation of various model predictions, aiming to enhance regional hydrological modeling skills. By utilizing the Community-Streamflow-Evaluation-System, researchers can identify areas for model improvement, whether through further training, calibration, parameterization, or the incorporation of new processes/features, such as reservoir release operations. Ultimately, this tutorial aims to empower users to develop post-processing methods and hydrological modeling formulations that improve streamflow prediction capabilities in alignment with diverse modeling needs, including stormflow, water supply, emergency management, and flood forecasting.\n",
    "\n",
    "Next [Chapter](./two.ipynb).. "
   ]
  },
  {
   "cell_type": "markdown",
   "metadata": {},
   "source": []
  }
 ],
 "metadata": {
  "kernelspec": {
   "display_name": "Python 3.10.5 64-bit",
   "language": "python",
   "name": "python3"
  },
  "language_info": {
   "codemirror_mode": {
    "name": "ipython",
    "version": 3
   },
   "file_extension": ".py",
   "mimetype": "text/x-python",
   "name": "python",
   "nbconvert_exporter": "python",
   "pygments_lexer": "ipython3",
   "version": "3.10.5"
  },
  "vscode": {
   "interpreter": {
    "hash": "af2b86a0d97d2bdb49befe19981ba48b79a904c391b62d75845b127da778abba"
   }
  }
 },
 "nbformat": 4,
 "nbformat_minor": 4
}
