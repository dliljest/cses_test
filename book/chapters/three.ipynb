{
 "cells": [
  {
   "cell_type": "markdown",
   "metadata": {},
   "source": [
    "# Streamflow Evaluator: State Class\n",
    "\n",
    "This section of code allows the user to evaluate modeled streamflow with observed in situ NWIS monitoring sites.\n",
    "Enter a start date, end date, frequency, state of interest, and model to compare (NWM v2.1 is set up).\n",
    "Select the below classes to evaluate model performance, set the classification to the provided term\n",
    "\n",
    "Tell the model what type of classification you are interested in from the following options:\n",
    "\n",
    "* Drainage area breaks: <span style=\"color:red\">\"Drainage_area_mi2\" </span>\n",
    "* Elevation breaks: <span style=\"color:red\">\"Mean_Basin_Elev_ft\"</span>\n",
    "* Forest area breaks: <span style=\"color:red\">\"Perc_Forest\"</span>\n",
    "* Developed area breaks: <span style=\"color:red\">\"Perc_Develop\"</span>\n",
    "* Impervious area breaks: <span style=\"color:red\">\"Perc_Imperv\"</span>\n",
    "* Herbacious area breaks: <span style=\"color:red\">\"Perc_Herbace\"</span>\n",
    "* Slope area > 30 degrees breaks: <span style=\"color:red\">\"Perc_Slop_30\"</span>\n",
    "* Precipitation breaks: <span style=\"color:red\">\"Mean_Ann_Precip_in\"</span>\n",
    "* low flows: <span style=\"color:red\">\"Ann_low_cfs\"</span>\n",
    "* Mean flows: <span style=\"color:red\">\"Ann_mean_cfs\"</span>\n",
    "* High flows: <span style=\"color:red\">\"Ann_hi_cfs\"</span>\n",
    "\n",
    "Here we have selected to classify the model by drainage area, and will evaluate streams within the state of Alabama from from May 24, 2011 to August 24, 2011. "
   ]
  },
  {
   "cell_type": "code",
   "execution_count": null,
   "metadata": {},
   "outputs": [
    {
     "ename": "",
     "evalue": "",
     "output_type": "error",
     "traceback": [
      "\u001b[1;31mFailed to start the Kernel. \n",
      "\u001b[1;31mThe kernel died. Error: ... View Jupyter <a href='command:jupyter.viewOutput'>log</a> for further details."
     ]
    }
   ],
   "source": [
    "#Set desired start and end date, state, model for comparision, and LULC class\n",
    "startDT ='2011-5-24'\n",
    "endDT ='2011-8-24' #last day of data is 2020-09-28\n",
    "state = 'al'\n",
    "#the model name must match with the folder name in which model predictions are in.\n",
    "#model = 'NWM'\n",
    "model = 'NWM_v2.1'\n",
    "classification = 'Drainage_area_mi2'\n",
    "\n",
    "#Inititate Streamflow Evaluator\n",
    "State_Eval = ROSET_AWS.LULC_Eval(model, state, startDT, endDT, cwd)\n",
    "\n",
    "#get state specific NWIS locations\n",
    "State_Eval.get_NWIS()\n",
    "State_Eval.get_NHD_Model_info()\n",
    "State_Eval.class_eval_state(classification)"
   ]
  },
  {
   "cell_type": "markdown",
   "metadata": {},
   "source": [
    "## Interactive Streamflow plotting.\n",
    "Next we can plot the results of the evalution. We will produce an interactive map of the model performance vs observed at the drainage area breaks. \n",
    "\n",
    "Select a size for the drainage area from the list below as Small, and evaluated at a monthly timescale. \n",
    "\n",
    "Categorical break: \n",
    "* <span style=\"color:red\">very small</span>: State_Eval.df_vsmall\n",
    "* <span style=\"color:red\">small</span>: State_Eval.df_small\n",
    "* <span style=\"color:red\">medium</span>: State_Eval.df_medium\n",
    "* <span style=\"color:red\">large</span>: State_Eval.df_large\n",
    "* <span style=\"color:red\">very large</span>: State_Eval.df_vlarge\n",
    "    \n",
    "Get a map of locations with plots of NWM vs. OBS\n",
    "Set frequency for graph:\n",
    "* <span style=\"color:red\">'D'</span>: Daily\n",
    "* <span style=\"color:red\">'M'</span>: monthly, \n",
    "* <span style=\"color:red\">'Q'</span>: quarterly, \n",
    "* <span style=\"color:red\">'A'</span>: annual\n",
    "\n",
    "Set supply = <span style=\"color:green\"> **True** </span> to evaluate cumulative water year totals or <span style = \"color:green\"> **False** </span> to look at desired temporal resolution"
   ]
  },
  {
   "cell_type": "code",
   "execution_count": null,
   "metadata": {},
   "outputs": [
    {
     "ename": "",
     "evalue": "",
     "output_type": "error",
     "traceback": [
      "\u001b[1;31mFailed to start the Kernel. \n",
      "\u001b[1;31mThe kernel died. Error: ... View Jupyter <a href='command:jupyter.viewOutput'>log</a> for further details."
     ]
    }
   ],
   "source": [
    "#Input temporal frequency, DF size, and DF size term -- make site name appear with mouse hover\n",
    "State_Eval.Map_Plot_Eval('M', State_Eval.df_small, 'small', supply = False)"
   ]
  },
  {
   "cell_type": "markdown",
   "metadata": {},
   "source": [
    "In the prodeuced map we see the evaluation locations with colors corresponding to perfromance; red indicating poorer performance and green higher performance. Hover over the markers to view further details of the evaluation. \n",
    "\n",
    "The following line of code can be executed to provide tabular results of the evaluation. Here we will use the parameter 'Q' to look at quarterly performace. "
   ]
  },
  {
   "cell_type": "code",
   "execution_count": null,
   "metadata": {},
   "outputs": [],
   "source": [
    "State_Eval.Interactive_Model_Eval('Q', supply = True)"
   ]
  },
  {
   "cell_type": "markdown",
   "metadata": {},
   "source": [
    "Next we will see how to execute the model for individual drainage basins. \n",
    "Next [Chapter](./four.ipynb)..  \n"
   ]
  }
 ],
 "metadata": {
  "kernelspec": {
   "display_name": "ROSET-AWS",
   "language": "python",
   "name": "roset-aws"
  },
  "language_info": {
   "codemirror_mode": {
    "name": "ipython",
    "version": 3
   },
   "file_extension": ".py",
   "mimetype": "text/x-python",
   "name": "python",
   "nbconvert_exporter": "python",
   "pygments_lexer": "ipython3",
   "version": "3.9.12"
  },
  "vscode": {
   "interpreter": {
    "hash": "af2b86a0d97d2bdb49befe19981ba48b79a904c391b62d75845b127da778abba"
   }
  }
 },
 "nbformat": 4,
 "nbformat_minor": 4
}
