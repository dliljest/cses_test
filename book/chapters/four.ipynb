{
 "cells": [
  {
   "cell_type": "markdown",
   "metadata": {},
   "source": [
    "# Streamflow evaluation: HUC Class\n",
    "\n",
    "This section of code allows the user to evaluate modeled streamflow with observed in situ NWIS monitoring sites \n",
    "for a watershed(s) of interest. The user can input multiple watersheds (e.g., Great Salt lake: ['1601', '1602']).\n",
    "\n",
    "\n",
    "![HUC_Eval_top](https://user-images.githubusercontent.com/33735397/206322410-ea0e210c-c805-4599-ad6b-704c76ba42ce.PNG)\n",
    "\n",
    "\n",
    "We will follow a simialr workflow as with the state classifcation, with a few minor changes. Use [The National Map Watershed Boundary Dataset (WBD)]() to identify the HUC size and unit code of interest to locate HUC of interest here we will look at two HUC4 watersheds in Utah. Enter a start date, end date, watersheds and model to compare (NWM v2.1 is set up).\n",
    "NWM retrospective data spans from 1980 - 2020, USGS/NWIS data is location dependent"
   ]
  },
  {
   "cell_type": "code",
   "execution_count": null,
   "metadata": {},
   "outputs": [],
   "source": [
    "#Enter a starting date, model for evaluation, and the respectrive HUC id(s)\n",
    "\n",
    "startDT ='2015-4-01'\n",
    "endDT ='2015-10-31'\n",
    "model = 'NWM_v2.1'\n",
    "HUCids = ['1601', '1602'] #must be in brackets, add multiple HUCs to complete a watershed (e.g. GSL basin), East vs. West. etc\n",
    "\n",
    "#Initiate function\n",
    "HUC_Eval = ROSET_AWS.HUC_Eval(model, HUCids, startDT, endDT, cwd)\n",
    "\n",
    "#Match NWIS locations within HUC watershed\n",
    "HUC_Eval.Join_WBD_StreamStats()\n",
    "\n",
    "#Get NWM reaches for each NWIS monitoring station\n",
    "HUC_Eval.get_NHD_Model_info()\n",
    "\n",
    "#Get NWM and NWIS data to compare\n",
    "HUC_Eval.prepare_comparison() # run the apply function to not have to run it during evaluation"
   ]
  },
  {
   "cell_type": "markdown",
   "metadata": {},
   "source": [
    "## Interactive plotting\n",
    "As before, we can plot the results of the evaluation on an interactive map. This time we will input 'D' for a daily temporal resolution."
   ]
  },
  {
   "cell_type": "code",
   "execution_count": null,
   "metadata": {},
   "outputs": [],
   "source": [
    "#Run Map function\n",
    "HUC_Eval.Map_Plot_Eval('D', supply = True)"
   ]
  },
  {
   "cell_type": "markdown",
   "metadata": {},
   "source": [
    "Again, we see the resulting locations denoted by color indicating performance and may select a marker for more detail.  \n",
    "\n",
    "By running the line below, we may produce the tabular and time-series results for all locations."
   ]
  },
  {
   "cell_type": "code",
   "execution_count": null,
   "metadata": {},
   "outputs": [],
   "source": [
    "#Plot evaluation\n",
    "HUC_Eval.Interactive_Model_Eval('D', supply = False)"
   ]
  },
  {
   "cell_type": "markdown",
   "metadata": {},
   "source": [
    "Next we will see how to execute the model for individual reaches. \n",
    "Next [Chapter](./five.ipynb)..  \n"
   ]
  },
  {
   "cell_type": "markdown",
   "metadata": {},
   "source": []
  }
 ],
 "metadata": {
  "kernelspec": {
   "display_name": "ROSET-AWS",
   "language": "python",
   "name": "roset-aws"
  },
  "language_info": {
   "codemirror_mode": {
    "name": "ipython",
    "version": 3
   },
   "file_extension": ".py",
   "mimetype": "text/x-python",
   "name": "python",
   "nbconvert_exporter": "python",
   "pygments_lexer": "ipython3",
   "version": "3.9.12"
  },
  "vscode": {
   "interpreter": {
    "hash": "af2b86a0d97d2bdb49befe19981ba48b79a904c391b62d75845b127da778abba"
   }
  }
 },
 "nbformat": 4,
 "nbformat_minor": 4
}
