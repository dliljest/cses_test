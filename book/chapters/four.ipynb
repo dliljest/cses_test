{
 "cells": [
  {
   "cell_type": "markdown",
   "metadata": {},
   "source": [
    "# Streamflow evaluation: HUC Class\n",
    "\n",
    "This section of code allows the user to evaluate modeled streamflow with observed in situ NWIS monitoring sites \n",
    "for a watershed(s) of interest. The user can input multiple watersheds (e.g., Great Salt lake: ['1601', '1602']).\n",
    "\n",
    "\n",
    "![HUC_Eval_top](https://user-images.githubusercontent.com/33735397/206322410-ea0e210c-c805-4599-ad6b-704c76ba42ce.PNG)\n",
    "\n",
    "\n",
    "We will follow a simialr workflow as with the state classifcation, with a few minor changes. Use [The National Map Watershed Boundary Dataset (WBD)]() to identify the HUC size and unit code of interest to locate HUC of interest here we will look at two HUC4 watersheds in Utah. Enter a start date, end date, watersheds and model to compare (NWM v2.1 is set up).\n",
    "NWM retrospective data spans from 1980 - 2020, USGS/NWIS data is location dependent"
   ]
  },
  {
   "cell_type": "code",
   "execution_count": null,
   "metadata": {},
   "outputs": [
    {
     "ename": "",
     "evalue": "",
     "output_type": "error",
     "traceback": [
      "\u001b[1;31mFailed to start the Kernel. \n",
      "\u001b[1;31mThe kernel died. Error: ... View Jupyter <a href='command:jupyter.viewOutput'>log</a> for further details."
     ]
    }
   ],
   "source": [
    "#Enter a starting date, model for evaluation, and the respectrive HUC id(s)\n",
    "\n",
    "startDT ='2015-4-01'\n",
    "endDT ='2015-10-31'\n",
    "model = 'NWM_v2.1'\n",
    "HUCids = ['1601', '1602'] #must be in brackets, add multiple HUCs to complete a watershed (e.g. GSL basin), East vs. West. etc\n",
    "#0802 causing issues, is the state there?\n",
    "#Initiate function\n",
    "HUC_Eval = ROSET_AWS.HUC_Eval(model, HUCids, startDT, endDT, cwd)"
   ]
  },
  {
   "cell_type": "markdown",
   "metadata": {},
   "source": [
    "## Interactive Streamflow plotting.\n",
    "Next we can plot the results of the evalution. We will produce an interactive map of the model performance vs observed at the drainage area breaks. \n",
    "\n",
    "Select a size for the drainage area from the list below as Small, and evaluated at a monthly timescale. \n",
    "\n",
    "Categorical break: \n",
    "* <span style=\"color:red\">very small</span>: State_Eval.df_vsmall\n",
    "* <span style=\"color:red\">small</span>: State_Eval.df_small\n",
    "* <span style=\"color:red\">medium</span>: State_Eval.df_medium\n",
    "* <span style=\"color:red\">large</span>: State_Eval.df_large\n",
    "* <span style=\"color:red\">very large</span>: State_Eval.df_vlarge\n",
    "    \n",
    "Get a map of locations with plots of NWM vs. OBS\n",
    "Set frequency for graph:\n",
    "* <span style=\"color:red\">'D'</span>: Daily\n",
    "* <span style=\"color:red\">'M'</span>: monthly, \n",
    "* <span style=\"color:red\">'Q'</span>: quarterly, \n",
    "* <span style=\"color:red\">'A'</span>: annual\n",
    "\n",
    "Set supply = <span style=\"color:green\"> **True** </span> to evaluate cumulative water year totals or <span style = \"color:green\"> **False** </span> to look at desired temporal resolution"
   ]
  },
  {
   "cell_type": "code",
   "execution_count": null,
   "metadata": {},
   "outputs": [
    {
     "ename": "",
     "evalue": "",
     "output_type": "error",
     "traceback": [
      "\u001b[1;31mFailed to start the Kernel. \n",
      "\u001b[1;31mThe kernel died. Error: ... View Jupyter <a href='command:jupyter.viewOutput'>log</a> for further details."
     ]
    }
   ],
   "source": [
    "#Input temporal frequency, DF size, and DF size term -- make site name appear with mouse hover\n",
    "State_Eval.Map_Plot_Eval('M', State_Eval.df_small, 'small', supply = False)"
   ]
  },
  {
   "cell_type": "markdown",
   "metadata": {},
   "source": [
    "In the prodeuced map we see the evaluation locations with colors corresponding to perfromance; red indicating poorer performance and green higher performance. Hover over the markers to view further details of the evaluation. \n",
    "\n",
    "The following line of code can be executed to provide tabular results of the evaluation. Here we will use the parameter 'Q' to look at quarterly performace. "
   ]
  },
  {
   "cell_type": "code",
   "execution_count": null,
   "metadata": {},
   "outputs": [],
   "source": [
    "State_Eval.Interactive_Model_Eval('Q', supply = True)"
   ]
  },
  {
   "cell_type": "markdown",
   "metadata": {},
   "source": [
    "Next we will see how to execute the model for individual drainage basins. \n",
    "Next [Chapter](./four.ipynb)..  \n"
   ]
  }
 ],
 "metadata": {
  "kernelspec": {
   "display_name": "ROSET-AWS",
   "language": "python",
   "name": "roset-aws"
  },
  "language_info": {
   "codemirror_mode": {
    "name": "ipython",
    "version": 3
   },
   "file_extension": ".py",
   "mimetype": "text/x-python",
   "name": "python",
   "nbconvert_exporter": "python",
   "pygments_lexer": "ipython3",
   "version": "3.9.12"
  },
  "vscode": {
   "interpreter": {
    "hash": "af2b86a0d97d2bdb49befe19981ba48b79a904c391b62d75845b127da778abba"
   }
  }
 },
 "nbformat": 4,
 "nbformat_minor": 4
}
